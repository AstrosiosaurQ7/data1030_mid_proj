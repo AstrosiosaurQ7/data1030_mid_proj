{
 "cells": [
  {
   "cell_type": "code",
   "execution_count": 1,
   "id": "ab830c63",
   "metadata": {},
   "outputs": [],
   "source": [
    "import pandas as pd\n",
    "import numpy as np"
   ]
  },
  {
   "cell_type": "code",
   "execution_count": 15,
   "id": "bfc15150",
   "metadata": {},
   "outputs": [],
   "source": [
    "df=pd.read_csv('data/rental_price.csv')"
   ]
  },
  {
   "cell_type": "code",
   "execution_count": 14,
   "id": "bac85ae8",
   "metadata": {},
   "outputs": [
    {
     "name": "stdout",
     "output_type": "stream",
     "text": [
      "0       300.00\n",
      "1        99.00\n",
      "2       100.00\n",
      "3       100.00\n",
      "4       599.00\n",
      "         ...  \n",
      "5829    125.00\n",
      "5830    179.00\n",
      "5831     85.00\n",
      "5832     25.00\n",
      "5833    120.00\n",
      "Name: price, Length: 5834, dtype: object\n"
     ]
    }
   ],
   "source": [
    "a=df['price'].str.replace('$','',regex=False)\n",
    "\n",
    "print(a)\n"
   ]
  },
  {
   "cell_type": "code",
   "execution_count": null,
   "id": "285e6056",
   "metadata": {},
   "outputs": [],
   "source": []
  }
 ],
 "metadata": {
  "kernelspec": {
   "display_name": "Python 3 (ipykernel)",
   "language": "python",
   "name": "python3"
  },
  "language_info": {
   "codemirror_mode": {
    "name": "ipython",
    "version": 3
   },
   "file_extension": ".py",
   "mimetype": "text/x-python",
   "name": "python",
   "nbconvert_exporter": "python",
   "pygments_lexer": "ipython3",
   "version": "3.10.5"
  }
 },
 "nbformat": 4,
 "nbformat_minor": 5
}
