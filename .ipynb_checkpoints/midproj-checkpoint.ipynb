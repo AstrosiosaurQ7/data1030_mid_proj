{
 "cells": [
  {
   "cell_type": "markdown",
   "id": "bcc5e48a",
   "metadata": {},
   "source": [
    "### Midterm_project_Xiao"
   ]
  },
  {
   "cell_type": "code",
   "execution_count": 1,
   "id": "2bf8b298",
   "metadata": {},
   "outputs": [],
   "source": [
    "import pandas as pd\n",
    "import numpy as np\n",
    "import matplotlib.pyplot as plt\n",
    "import seaborn as sns\n",
    "from sklearn.model_selection import train_test_split\n",
    "from sklearn.impute import SimpleImputer\n",
    "from sklearn.preprocessing import OneHotEncoder, StandardScaler"
   ]
  },
  {
   "cell_type": "markdown",
   "id": "0dc0c7b0",
   "metadata": {},
   "source": [
    "dataset https://www.kaggle.com/datasets/ramjasmaurya/oyo-rental-price-prediction-in-china/code?select=rental_price.csv"
   ]
  },
  {
   "cell_type": "code",
   "execution_count": 2,
   "id": "b4c1e067",
   "metadata": {
    "scrolled": true
   },
   "outputs": [
    {
     "name": "stdout",
     "output_type": "stream",
     "text": [
      "feature matrix shape: (5834, 25)\n",
      "target varaiable shape: (5834,)\n"
     ]
    }
   ],
   "source": [
    "df = pd.read_csv('data/rentoyo.csv')\n",
    "y=df['price']\n",
    "X=df.loc[:,df.columns!='price']\n",
    "print(\"feature matrix shape:\",X.shape)\n",
    "print(\"target varaiable shape:\",y.shape)"
   ]
  },
  {
   "cell_type": "code",
   "execution_count": 35,
   "id": "dfa54f97",
   "metadata": {
    "scrolled": true
   },
   "outputs": [
    {
     "name": "stdout",
     "output_type": "stream",
     "text": [
      "accommodates                        int64\n",
      "amenities                          object\n",
      "availability_30                     int64\n",
      "bathrooms                         float64\n",
      "bed_type                           object\n",
      "bedrooms                          float64\n",
      "beds                              float64\n",
      "calculated_host_listings_count      int64\n",
      "cancellation_policy                object\n",
      "guests_included                     int64\n",
      "has_availability                   object\n",
      "host_is_superhost                  object\n",
      "host_listings_count               float64\n",
      "instant_bookable                   object\n",
      "latitude(North)                   float64\n",
      "longitude(East)                   float64\n",
      "maximum_nights                      int64\n",
      "number_of_reviews                   int64\n",
      "property_type                      object\n",
      "review_scores_checkin             float64\n",
      "review_scores_communication       float64\n",
      "review_scores_location            float64\n",
      "review_scores_rating              float64\n",
      "review_scores_value               float64\n",
      "room_type                          object\n",
      "price                             float64\n",
      "dtype: object\n"
     ]
    }
   ],
   "source": [
    "print(df.dtypes)"
   ]
  },
  {
   "cell_type": "code",
   "execution_count": 3,
   "id": "31ff93c1",
   "metadata": {
    "scrolled": false
   },
   "outputs": [
    {
     "name": "stdout",
     "output_type": "stream",
     "text": [
      "fraction of missing values in features:\n",
      "bathrooms                      0.007885\n",
      "bedrooms                       0.001028\n",
      "beds                           0.003942\n",
      "host_is_superhost              0.002571\n",
      "host_listings_count            0.002571\n",
      "review_scores_checkin          0.352588\n",
      "review_scores_communication    0.352588\n",
      "review_scores_location         0.352417\n",
      "review_scores_rating           0.350703\n",
      "review_scores_value            0.352588\n",
      "dtype: float64\n"
     ]
    }
   ],
   "source": [
    "#count nan\n",
    "# print(df.isnull().sum())\n",
    "miss=df.isnull().sum(axis=0)/df.shape[0]\n",
    "print(\"fraction of missing values in features:\")\n",
    "print(miss[miss>0])"
   ]
  },
  {
   "cell_type": "code",
   "execution_count": 4,
   "id": "5139a0c5",
   "metadata": {},
   "outputs": [
    {
     "name": "stdout",
     "output_type": "stream",
     "text": [
      "fraction of points with missing values: 0.35978745286253\n"
     ]
    }
   ],
   "source": [
    "frac_missing = sum(df.isnull().sum(axis=1)!=0)/df.shape[0]\n",
    "print('fraction of points with missing values:',frac_missing)"
   ]
  },
  {
   "cell_type": "code",
   "execution_count": 30,
   "id": "3b67489b",
   "metadata": {
    "scrolled": true
   },
   "outputs": [
    {
     "name": "stdout",
     "output_type": "stream",
     "text": [
      "count     5834.000000\n",
      "mean       286.219918\n",
      "std        403.256199\n",
      "min          0.000000\n",
      "25%         95.000000\n",
      "50%        175.000000\n",
      "75%        325.000000\n",
      "max      10000.000000\n",
      "Name: price, dtype: float64\n"
     ]
    }
   ],
   "source": [
    "print(y.describe())"
   ]
  },
  {
   "cell_type": "code",
   "execution_count": 3,
   "id": "14a95db3",
   "metadata": {},
   "outputs": [
    {
     "data": {
      "image/png": "[encoded data removed]",
      "text/plain": [
       "<Figure size 500x300 with 1 Axes>"
      ]
     },
     "metadata": {},
     "output_type": "display_data"
    }
   ],
   "source": [
    "#normal\n",
    "plt.figure(figsize=(5,3))\n",
    "y.plot.hist(bins = 50,color=\"lightcoral\")\n",
    "\n",
    "plt.xlabel('rent price')\n",
    "plt.ylabel('count')\n",
    "\n",
    "fig=plt.gcf()\n",
    "plt.tight_layout()\n",
    "plt.savefig(\"price0.png\")"
   ]
  },
  {
   "cell_type": "code",
   "execution_count": 7,
   "id": "737e06e8",
   "metadata": {
    "scrolled": false
   },
   "outputs": [
    {
     "data": {
      "image/png": "[encoded data removed]",
      "text/plain": [
       "<Figure size 500x300 with 1 Axes>"
      ]
     },
     "metadata": {},
     "output_type": "display_data"
    }
   ],
   "source": [
    "#log form\n",
    "plt.figure(figsize=(5,3))\n",
    "y.plot.hist(log=True,bins = np.logspace(np.log10(1),np.log10(np.max(df['price'])),50),color=\"lightcoral\")\n",
    "\n",
    "plt.xlabel('rent price')\n",
    "plt.ylabel('count')\n",
    "\n",
    "fig=plt.gcf()\n",
    "# plt.show()\n",
    "plt.tight_layout()\n",
    "plt.savefig(\"price.png\")"
   ]
  },
  {
   "cell_type": "markdown",
   "id": "cd0e078f",
   "metadata": {},
   "source": [
    "- right-skewed"
   ]
  },
  {
   "cell_type": "code",
   "execution_count": 27,
   "id": "37e28440",
   "metadata": {},
   "outputs": [
    {
     "name": "stdout",
     "output_type": "stream",
     "text": [
      "count     5834.000000\n",
      "mean       746.705862\n",
      "std        641.901800\n",
      "min          1.000000\n",
      "25%         30.000000\n",
      "50%       1125.000000\n",
      "75%       1125.000000\n",
      "max      26801.000000\n",
      "Name: maximum_nights, dtype: float64\n"
     ]
    }
   ],
   "source": [
    "print(df['maximum_nights'].describe())"
   ]
  },
  {
   "cell_type": "code",
   "execution_count": 31,
   "id": "288466cd",
   "metadata": {},
   "outputs": [
    {
     "data": {
      "text/plain": [
       "<AxesSubplot:ylabel='Frequency'>"
      ]
     },
     "execution_count": 31,
     "metadata": {},
     "output_type": "execute_result"
    },
    {
     "data": {
      "image/png": "[encoded data removed]",
      "text/plain": [
       "<Figure size 640x480 with 1 Axes>"
      ]
     },
     "metadata": {},
     "output_type": "display_data"
    }
   ],
   "source": [
    "df['maximum_nights'].plot.hist(log=True,bins = np.logspace(np.log10(1),np.log10(np.max(df['maximum_nights'])),50),color=\"lightcoral\")"
   ]
  },
  {
   "cell_type": "code",
   "execution_count": 17,
   "id": "bf93a280",
   "metadata": {
    "scrolled": true
   },
   "outputs": [],
   "source": [
    "# df['accommodates'].value_counts()"
   ]
  },
  {
   "cell_type": "code",
   "execution_count": 4,
   "id": "580cbdb1",
   "metadata": {
    "scrolled": true
   },
   "outputs": [
    {
     "data": {
      "text/plain": [
       "<matplotlib.collections.PathCollection at 0x228ba865060>"
      ]
     },
     "execution_count": 4,
     "metadata": {},
     "output_type": "execute_result"
    },
    {
     "data": {
      "image/png": "[encoded data removed]",
      "text/plain": [
       "<Figure size 500x300 with 1 Axes>"
      ]
     },
     "metadata": {},
     "output_type": "display_data"
    }
   ],
   "source": [
    "# numerical feature  scatter\n",
    "plt.figure(figsize=(5,3))\n",
    "X1=df['accommodates']\n",
    "Y1=y\n",
    "\n",
    "plt.xlabel(\"accommodate\")\n",
    "plt.ylabel(\"rent price\")\n",
    "plt.title(\"Relationship between Accommodate and Rent price \")\n",
    "\n",
    "plt.scatter(X1,Y1,alpha=0.5,color=\"tomato\")\n",
    "\n",
    "# fig=plt.gcf()\n",
    "# plt.tight_layout()\n",
    "# plt.savefig(\"acoomodate.png\")"
   ]
  },
  {
   "cell_type": "code",
   "execution_count": 22,
   "id": "7fe0e630",
   "metadata": {
    "scrolled": false
   },
   "outputs": [
    {
     "data": {
      "image/png": "[encoded data removed]",
      "text/plain": [
       "<Figure size 1500x600 with 1 Axes>"
      ]
     },
     "metadata": {},
     "output_type": "display_data"
    }
   ],
   "source": [
    "#property type & AVG price\n",
    "plt.figure(figsize = (15,6))\n",
    "df1=df[['property_type','price']]\n",
    "df_group=df1.groupby('property_type')\n",
    "property_type=df_group['price'].mean().reset_index().rename(columns={\"property_type\":\"property_type\",\"price\":\"avg price\"})\n",
    "\n",
    "ax = sns.barplot(data=property_type,x='property_type',y='avg price')\n",
    "plt.xlabel(\"Property Type\")\n",
    "plt.ylabel(\"AVG Price\")\n",
    "ax.set(title='Relationship between Property Type and AVG Price')\n",
    "g = ax.set_xticklabels(ax.get_xticklabels(),rotation = 90)\n",
    "\n",
    "fig=plt.gcf()\n",
    "plt.tight_layout()\n",
    "plt.savefig(\"property.png\")"
   ]
  },
  {
   "cell_type": "code",
   "execution_count": 21,
   "id": "0e3cd4d5",
   "metadata": {},
   "outputs": [],
   "source": [
    "# 分组求平均值 groupby（pp）\n",
    "df1=df[['property_type','price']]\n",
    "df_group=df1.groupby('property_type')\n",
    "property_type=df_group['price'].mean().reset_index().rename(columns={\"property_type\":\"property_type\",\"price\":\"avg price\"})"
   ]
  },
  {
   "cell_type": "code",
   "execution_count": 56,
   "id": "15de5126",
   "metadata": {},
   "outputs": [
    {
     "name": "stdout",
     "output_type": "stream",
     "text": [
      "     property_type  price\n",
      "0            House  300.0\n",
      "1        Camper/RV   99.0\n",
      "2            House  100.0\n",
      "3            House  100.0\n",
      "4            House  599.0\n",
      "...            ...    ...\n",
      "5829     Apartment  125.0\n",
      "5830     Apartment  179.0\n",
      "5831   Condominium   85.0\n",
      "5832     Apartment   25.0\n",
      "5833     Apartment  120.0\n",
      "\n",
      "[5834 rows x 2 columns]\n"
     ]
    }
   ],
   "source": [
    "print(df[['property_type','price']])"
   ]
  },
  {
   "cell_type": "code",
   "execution_count": 12,
   "id": "54fa918d",
   "metadata": {
    "scrolled": false
   },
   "outputs": [
    {
     "data": {
      "image/png": "[encoded data removed]",
      "text/plain": [
       "<Figure size 640x480 with 1 Axes>"
      ]
     },
     "metadata": {},
     "output_type": "display_data"
    }
   ],
   "source": [
    "#categorical  violin\n",
    "import seaborn as sns\n",
    "sns.violinplot(x=df['bed_type'],y=df['price'],linewidth=0.2,palette=\"Set2\").set(title='Relationship between Bed Type and Rent Price')\n",
    "\n",
    "fig=plt.gcf()\n",
    "plt.tight_layout()\n",
    "plt.savefig(\"bedtype.png\")"
   ]
  },
  {
   "cell_type": "code",
   "execution_count": 7,
   "id": "f1db7110",
   "metadata": {},
   "outputs": [
    {
     "data": {
      "image/png": "[encoded data removed]",
      "text/plain": [
       "<Figure size 432x288 with 1 Axes>"
      ]
     },
     "metadata": {},
     "output_type": "display_data"
    }
   ],
   "source": [
    "#latitude longitude basemap\n",
    "#china\n",
    "from mpl_toolkits.basemap import Basemap\n",
    "import matplotlib.pyplot as plt\n",
    "from matplotlib.patches import Polygon\n",
    "ax = plt.gca()\n",
    "\n",
    "# plot map\n",
    "m = Basemap(llcrnrlon=82.33, \n",
    "            llcrnrlat=3.01, \n",
    "            urcrnrlon=138.16, \n",
    "            urcrnrlat=53.123,\n",
    "            projection='lcc', lat_0 = 42.5,lon_0=120)\n",
    "m.drawcoastlines()    # coastline\n",
    "m.drawcountries(linewidth=1.5)    # country border\n",
    "# CHN_adm1  province data of China\n",
    "m.readshapefile(shapefile='data/gadm41_CHN_shp/gadm41_CHN_1',\n",
    "                name='states',\n",
    "                drawbounds=True,color='r')  \n",
    "\n",
    "for info, shp in zip(m.states_info, m.states):\n",
    "    proid = info['NAME_1']\n",
    "    if proid == 'Guangdong':\n",
    "        poly = Polygon(shp,facecolor='orange',lw=3)\n",
    "        ax.add_patch(poly)\n",
    "\n",
    "fig=plt.gcf()\n",
    "plt.tight_layout()\n",
    "plt.savefig(\"china.png\")"
   ]
  },
  {
   "cell_type": "code",
   "execution_count": 9,
   "id": "11863d5d",
   "metadata": {
    "scrolled": true
   },
   "outputs": [
    {
     "data": {
      "image/png": "[encoded data removed]",
      "text/plain": [
       "<Figure size 432x288 with 1 Axes>"
      ]
     },
     "metadata": {},
     "output_type": "display_data"
    }
   ],
   "source": [
    "#latitude longitude basemap\n",
    "#guangdong & oyos catter\n",
    "from mpl_toolkits.basemap import Basemap\n",
    "import matplotlib.pyplot as plt\n",
    "from matplotlib.patches import Polygon\n",
    "ax = plt.gca()\n",
    "\n",
    "# plot map\n",
    "m = Basemap(llcrnrlon=100.33, \n",
    "            llcrnrlat=15.01, \n",
    "            urcrnrlon=125.16, \n",
    "            urcrnrlat=30.12,\n",
    "            projection='lcc', lat_0 = 42.5,lon_0=120)\n",
    "m.drawcoastlines()    # coastline\n",
    "m.drawcountries(linewidth=1.5)    # country border\n",
    "# CHN_adm1  province data of China\n",
    "m.readshapefile(shapefile='data/gadm41_CHN_shp/gadm41_CHN_1',\n",
    "                name='states',\n",
    "                drawbounds=True)  \n",
    "\n",
    "lon=df['longitude(East)']\n",
    "lat=df['latitude(North)']\n",
    "\n",
    "for info, shp in zip(m.states_info, m.states):\n",
    "    proid = info['NAME_1']\n",
    "    if proid == 'Guangdong':\n",
    "        poly = Polygon(shp,facecolor='lightcoral',lw=3)\n",
    "        ax.add_patch(poly)\n",
    "\n",
    "lon, lat = m(lon, lat)  \n",
    "m.scatter(lon, lat, s=60)\n",
    "\n",
    "fig=plt.gcf()\n",
    "plt.tight_layout()\n",
    "plt.savefig(\"guangdong.png\")"
   ]
  },
  {
   "cell_type": "markdown",
   "id": "de75501f",
   "metadata": {},
   "source": [
    "- The \"amenities\" column is split into several columns to show whether the house has these facilities in the form of 0, 1."
   ]
  },
  {
   "cell_type": "code",
   "execution_count": 11,
   "id": "201f73f0",
   "metadata": {},
   "outputs": [
    {
     "data": {
      "text/plain": [
       "0       None\n",
       "1       None\n",
       "2       None\n",
       "3       None\n",
       "4       None\n",
       "        ... \n",
       "5829    None\n",
       "5830    None\n",
       "5831    None\n",
       "5832    None\n",
       "5833    None\n",
       "Name: amenities, Length: 5834, dtype: object"
      ]
     },
     "execution_count": 11,
     "metadata": {},
     "output_type": "execute_result"
    }
   ],
   "source": [
    "#split column \"amenities\"\n",
    "features_key = set()\n",
    "def extract_feature(x):\n",
    "    s1 = x.replace('{', '').replace('}', '').replace('\"', '')\n",
    "    s1 = s1.split(',')\n",
    "    for s in s1:\n",
    "        features_key.add(s)\n",
    "        #print(s)\n",
    "\n",
    "df['amenities'].apply(extract_feature)"
   ]
  },
  {
   "cell_type": "code",
   "execution_count": 12,
   "id": "9cb69ed9",
   "metadata": {
    "scrolled": true
   },
   "outputs": [],
   "source": [
    "features_key\n",
    "features_key.remove('')"
   ]
  },
  {
   "cell_type": "code",
   "execution_count": 13,
   "id": "f3aa90b9",
   "metadata": {
    "scrolled": true
   },
   "outputs": [
    {
     "name": "stderr",
     "output_type": "stream",
     "text": [
      "C:\\Users\\NAMANANA\\AppData\\Local\\Temp\\ipykernel_15664\\1071355264.py:2: UserWarning: This pattern is interpreted as a regular expression, and has match groups. To actually get the groups, use str.extract.\n",
      "  df['amenities__'+feat.replace(' ','_')] = df['amenities'].str.contains(feat).astype(int)\n",
      "C:\\Users\\NAMANANA\\AppData\\Local\\Temp\\ipykernel_15664\\1071355264.py:2: UserWarning: This pattern is interpreted as a regular expression, and has match groups. To actually get the groups, use str.extract.\n",
      "  df['amenities__'+feat.replace(' ','_')] = df['amenities'].str.contains(feat).astype(int)\n",
      "C:\\Users\\NAMANANA\\AppData\\Local\\Temp\\ipykernel_15664\\1071355264.py:2: UserWarning: This pattern is interpreted as a regular expression, and has match groups. To actually get the groups, use str.extract.\n",
      "  df['amenities__'+feat.replace(' ','_')] = df['amenities'].str.contains(feat).astype(int)\n"
     ]
    },
    {
     "data": {
      "text/plain": [
       "Index(['accommodates', 'amenities', 'availability_30', 'bathrooms', 'bed_type',\n",
       "       'bedrooms', 'beds', 'calculated_host_listings_count',\n",
       "       'cancellation_policy', 'guests_included', 'has_availability',\n",
       "       'host_is_superhost', 'host_listings_count', 'instant_bookable',\n",
       "       'latitude(North)', 'longitude(East)', 'maximum_nights',\n",
       "       'number_of_reviews', 'property_type', 'review_scores_checkin',\n",
       "       'review_scores_communication', 'review_scores_location',\n",
       "       'review_scores_rating', 'review_scores_value', 'room_type', 'price',\n",
       "       'amenities__Hair_Dryer', 'amenities__Smoke_Detector',\n",
       "       'amenities__Washer_/_Dryer', 'amenities__24-Hour_Check-in',\n",
       "       'amenities__Fire_Extinguisher', 'amenities__Free_Parking_on_Premises',\n",
       "       'amenities__Cable_TV', 'amenities__Heating', 'amenities__Other_pet(s)',\n",
       "       'amenities__Lock_on_Bedroom_Door', 'amenities__Family/Kid_Friendly',\n",
       "       'amenities__Iron', 'amenities__Buzzer/Wireless_Intercom',\n",
       "       'amenities__Wireless_Internet', 'amenities__Essentials',\n",
       "       'amenities__Washer', 'amenities__Hot_Tub',\n",
       "       'amenities__Elevator_in_Building', 'amenities__Kitchen',\n",
       "       'amenities__Cat(s)', 'amenities__TV', 'amenities__Air_Conditioning',\n",
       "       'amenities__Internet', 'amenities__Breakfast', 'amenities__Hangers',\n",
       "       'amenities__Gym', 'amenities__Wheelchair_Accessible',\n",
       "       'amenities__Carbon_Monoxide_Detector', 'amenities__Dryer',\n",
       "       'amenities__Pool', 'amenities__First_Aid_Kit',\n",
       "       'amenities__Laptop_Friendly_Workspace', 'amenities__Dog(s)',\n",
       "       'amenities__Smoking_Allowed', 'amenities__Doorman',\n",
       "       'amenities__Indoor_Fireplace', 'amenities__Suitable_for_Events',\n",
       "       'amenities__Shampoo', 'amenities__Pets_live_on_this_property',\n",
       "       'amenities__Safety_Card', 'amenities__Pets_Allowed'],\n",
       "      dtype='object')"
      ]
     },
     "execution_count": 13,
     "metadata": {},
     "output_type": "execute_result"
    }
   ],
   "source": [
    "for feat in features_key:\n",
    "    df['amenities__'+feat.replace(' ','_')] = df['amenities'].str.contains(feat).astype(int)\n",
    "df.columns"
   ]
  },
  {
   "cell_type": "code",
   "execution_count": 14,
   "id": "3b5bbafd",
   "metadata": {
    "scrolled": true
   },
   "outputs": [
    {
     "data": {
      "text/html": [
       "<div>\n",
       "<style scoped>\n",
       "    .dataframe tbody tr th:only-of-type {\n",
       "        vertical-align: middle;\n",
       "    }\n",
       "\n",
       "    .dataframe tbody tr th {\n",
       "        vertical-align: top;\n",
       "    }\n",
       "\n",
       "    .dataframe thead th {\n",
       "        text-align: right;\n",
       "    }\n",
       "</style>\n",
       "<table border=\"1\" class=\"dataframe\">\n",
       "  <thead>\n",
       "    <tr style=\"text-align: right;\">\n",
       "      <th></th>\n",
       "      <th>accommodates</th>\n",
       "      <th>amenities</th>\n",
       "      <th>availability_30</th>\n",
       "      <th>bathrooms</th>\n",
       "      <th>bed_type</th>\n",
       "      <th>bedrooms</th>\n",
       "      <th>beds</th>\n",
       "      <th>calculated_host_listings_count</th>\n",
       "      <th>cancellation_policy</th>\n",
       "      <th>guests_included</th>\n",
       "      <th>...</th>\n",
       "      <th>amenities__Laptop_Friendly_Workspace</th>\n",
       "      <th>amenities__Dog(s)</th>\n",
       "      <th>amenities__Smoking_Allowed</th>\n",
       "      <th>amenities__Doorman</th>\n",
       "      <th>amenities__Indoor_Fireplace</th>\n",
       "      <th>amenities__Suitable_for_Events</th>\n",
       "      <th>amenities__Shampoo</th>\n",
       "      <th>amenities__Pets_live_on_this_property</th>\n",
       "      <th>amenities__Safety_Card</th>\n",
       "      <th>amenities__Pets_Allowed</th>\n",
       "    </tr>\n",
       "  </thead>\n",
       "  <tbody>\n",
       "    <tr>\n",
       "      <th>0</th>\n",
       "      <td>6</td>\n",
       "      <td>{\"Cable TV\",Internet,\"Wireless Internet\",\"Air ...</td>\n",
       "      <td>0</td>\n",
       "      <td>2.5</td>\n",
       "      <td>Real Bed</td>\n",
       "      <td>1.0</td>\n",
       "      <td>3.0</td>\n",
       "      <td>1</td>\n",
       "      <td>moderate</td>\n",
       "      <td>1</td>\n",
       "      <td>...</td>\n",
       "      <td>0</td>\n",
       "      <td>0</td>\n",
       "      <td>0</td>\n",
       "      <td>0</td>\n",
       "      <td>1</td>\n",
       "      <td>0</td>\n",
       "      <td>0</td>\n",
       "      <td>1</td>\n",
       "      <td>0</td>\n",
       "      <td>0</td>\n",
       "    </tr>\n",
       "    <tr>\n",
       "      <th>1</th>\n",
       "      <td>2</td>\n",
       "      <td>{\"Air Conditioning\",Heating,\"Family/Kid Friend...</td>\n",
       "      <td>29</td>\n",
       "      <td>0.0</td>\n",
       "      <td>Futon</td>\n",
       "      <td>1.0</td>\n",
       "      <td>1.0</td>\n",
       "      <td>1</td>\n",
       "      <td>moderate</td>\n",
       "      <td>1</td>\n",
       "      <td>...</td>\n",
       "      <td>0</td>\n",
       "      <td>0</td>\n",
       "      <td>0</td>\n",
       "      <td>0</td>\n",
       "      <td>0</td>\n",
       "      <td>0</td>\n",
       "      <td>0</td>\n",
       "      <td>0</td>\n",
       "      <td>0</td>\n",
       "      <td>0</td>\n",
       "    </tr>\n",
       "    <tr>\n",
       "      <th>2</th>\n",
       "      <td>2</td>\n",
       "      <td>{TV,\"Cable TV\",Internet,\"Wireless Internet\",\"A...</td>\n",
       "      <td>30</td>\n",
       "      <td>1.5</td>\n",
       "      <td>Real Bed</td>\n",
       "      <td>1.0</td>\n",
       "      <td>1.0</td>\n",
       "      <td>2</td>\n",
       "      <td>flexible</td>\n",
       "      <td>1</td>\n",
       "      <td>...</td>\n",
       "      <td>0</td>\n",
       "      <td>0</td>\n",
       "      <td>0</td>\n",
       "      <td>0</td>\n",
       "      <td>1</td>\n",
       "      <td>0</td>\n",
       "      <td>1</td>\n",
       "      <td>0</td>\n",
       "      <td>1</td>\n",
       "      <td>0</td>\n",
       "    </tr>\n",
       "    <tr>\n",
       "      <th>3</th>\n",
       "      <td>2</td>\n",
       "      <td>{TV,\"Cable TV\",Internet,\"Wireless Internet\",\"A...</td>\n",
       "      <td>30</td>\n",
       "      <td>1.5</td>\n",
       "      <td>Real Bed</td>\n",
       "      <td>1.0</td>\n",
       "      <td>1.0</td>\n",
       "      <td>2</td>\n",
       "      <td>flexible</td>\n",
       "      <td>1</td>\n",
       "      <td>...</td>\n",
       "      <td>0</td>\n",
       "      <td>0</td>\n",
       "      <td>0</td>\n",
       "      <td>0</td>\n",
       "      <td>1</td>\n",
       "      <td>0</td>\n",
       "      <td>1</td>\n",
       "      <td>0</td>\n",
       "      <td>0</td>\n",
       "      <td>0</td>\n",
       "    </tr>\n",
       "    <tr>\n",
       "      <th>4</th>\n",
       "      <td>6</td>\n",
       "      <td>{TV,\"Cable TV\",Internet,\"Wireless Internet\",\"A...</td>\n",
       "      <td>27</td>\n",
       "      <td>2.0</td>\n",
       "      <td>Real Bed</td>\n",
       "      <td>3.0</td>\n",
       "      <td>3.0</td>\n",
       "      <td>2</td>\n",
       "      <td>strict</td>\n",
       "      <td>1</td>\n",
       "      <td>...</td>\n",
       "      <td>0</td>\n",
       "      <td>0</td>\n",
       "      <td>0</td>\n",
       "      <td>0</td>\n",
       "      <td>1</td>\n",
       "      <td>0</td>\n",
       "      <td>1</td>\n",
       "      <td>0</td>\n",
       "      <td>0</td>\n",
       "      <td>0</td>\n",
       "    </tr>\n",
       "  </tbody>\n",
       "</table>\n",
       "<p>5 rows × 67 columns</p>\n",
       "</div>"
      ],
      "text/plain": [
       "   accommodates                                          amenities  \\\n",
       "0             6  {\"Cable TV\",Internet,\"Wireless Internet\",\"Air ...   \n",
       "1             2  {\"Air Conditioning\",Heating,\"Family/Kid Friend...   \n",
       "2             2  {TV,\"Cable TV\",Internet,\"Wireless Internet\",\"A...   \n",
       "3             2  {TV,\"Cable TV\",Internet,\"Wireless Internet\",\"A...   \n",
       "4             6  {TV,\"Cable TV\",Internet,\"Wireless Internet\",\"A...   \n",
       "\n",
       "   availability_30  bathrooms  bed_type  bedrooms  beds  \\\n",
       "0                0        2.5  Real Bed       1.0   3.0   \n",
       "1               29        0.0     Futon       1.0   1.0   \n",
       "2               30        1.5  Real Bed       1.0   1.0   \n",
       "3               30        1.5  Real Bed       1.0   1.0   \n",
       "4               27        2.0  Real Bed       3.0   3.0   \n",
       "\n",
       "   calculated_host_listings_count cancellation_policy  guests_included  ...  \\\n",
       "0                               1            moderate                1  ...   \n",
       "1                               1            moderate                1  ...   \n",
       "2                               2            flexible                1  ...   \n",
       "3                               2            flexible                1  ...   \n",
       "4                               2              strict                1  ...   \n",
       "\n",
       "  amenities__Laptop_Friendly_Workspace amenities__Dog(s)  \\\n",
       "0                                    0                 0   \n",
       "1                                    0                 0   \n",
       "2                                    0                 0   \n",
       "3                                    0                 0   \n",
       "4                                    0                 0   \n",
       "\n",
       "   amenities__Smoking_Allowed amenities__Doorman  amenities__Indoor_Fireplace  \\\n",
       "0                           0                  0                            1   \n",
       "1                           0                  0                            0   \n",
       "2                           0                  0                            1   \n",
       "3                           0                  0                            1   \n",
       "4                           0                  0                            1   \n",
       "\n",
       "   amenities__Suitable_for_Events  amenities__Shampoo  \\\n",
       "0                               0                   0   \n",
       "1                               0                   0   \n",
       "2                               0                   1   \n",
       "3                               0                   1   \n",
       "4                               0                   1   \n",
       "\n",
       "   amenities__Pets_live_on_this_property amenities__Safety_Card  \\\n",
       "0                                      1                      0   \n",
       "1                                      0                      0   \n",
       "2                                      0                      1   \n",
       "3                                      0                      0   \n",
       "4                                      0                      0   \n",
       "\n",
       "   amenities__Pets_Allowed  \n",
       "0                        0  \n",
       "1                        0  \n",
       "2                        0  \n",
       "3                        0  \n",
       "4                        0  \n",
       "\n",
       "[5 rows x 67 columns]"
      ]
     },
     "execution_count": 14,
     "metadata": {},
     "output_type": "execute_result"
    }
   ],
   "source": [
    "df.head(5)"
   ]
  },
  {
   "cell_type": "code",
   "execution_count": 15,
   "id": "ca61d311",
   "metadata": {},
   "outputs": [],
   "source": [
    "# drop the \"amenities\" and \"price\"column\n",
    "X1=df.loc[:,(df.columns!='amenities') & (df.columns!='price') ]"
   ]
  },
  {
   "cell_type": "code",
   "execution_count": 16,
   "id": "a2b43705",
   "metadata": {},
   "outputs": [
    {
     "data": {
      "text/html": [
       "<div>\n",
       "<style scoped>\n",
       "    .dataframe tbody tr th:only-of-type {\n",
       "        vertical-align: middle;\n",
       "    }\n",
       "\n",
       "    .dataframe tbody tr th {\n",
       "        vertical-align: top;\n",
       "    }\n",
       "\n",
       "    .dataframe thead th {\n",
       "        text-align: right;\n",
       "    }\n",
       "</style>\n",
       "<table border=\"1\" class=\"dataframe\">\n",
       "  <thead>\n",
       "    <tr style=\"text-align: right;\">\n",
       "      <th></th>\n",
       "      <th>accommodates</th>\n",
       "      <th>availability_30</th>\n",
       "      <th>bathrooms</th>\n",
       "      <th>bed_type</th>\n",
       "      <th>bedrooms</th>\n",
       "      <th>beds</th>\n",
       "      <th>calculated_host_listings_count</th>\n",
       "      <th>cancellation_policy</th>\n",
       "      <th>guests_included</th>\n",
       "      <th>has_availability</th>\n",
       "      <th>...</th>\n",
       "      <th>amenities__Laptop_Friendly_Workspace</th>\n",
       "      <th>amenities__Dog(s)</th>\n",
       "      <th>amenities__Smoking_Allowed</th>\n",
       "      <th>amenities__Doorman</th>\n",
       "      <th>amenities__Indoor_Fireplace</th>\n",
       "      <th>amenities__Suitable_for_Events</th>\n",
       "      <th>amenities__Shampoo</th>\n",
       "      <th>amenities__Pets_live_on_this_property</th>\n",
       "      <th>amenities__Safety_Card</th>\n",
       "      <th>amenities__Pets_Allowed</th>\n",
       "    </tr>\n",
       "  </thead>\n",
       "  <tbody>\n",
       "    <tr>\n",
       "      <th>0</th>\n",
       "      <td>6</td>\n",
       "      <td>0</td>\n",
       "      <td>2.5</td>\n",
       "      <td>Real Bed</td>\n",
       "      <td>1.0</td>\n",
       "      <td>3.0</td>\n",
       "      <td>1</td>\n",
       "      <td>moderate</td>\n",
       "      <td>1</td>\n",
       "      <td>t</td>\n",
       "      <td>...</td>\n",
       "      <td>0</td>\n",
       "      <td>0</td>\n",
       "      <td>0</td>\n",
       "      <td>0</td>\n",
       "      <td>1</td>\n",
       "      <td>0</td>\n",
       "      <td>0</td>\n",
       "      <td>1</td>\n",
       "      <td>0</td>\n",
       "      <td>0</td>\n",
       "    </tr>\n",
       "    <tr>\n",
       "      <th>1</th>\n",
       "      <td>2</td>\n",
       "      <td>29</td>\n",
       "      <td>0.0</td>\n",
       "      <td>Futon</td>\n",
       "      <td>1.0</td>\n",
       "      <td>1.0</td>\n",
       "      <td>1</td>\n",
       "      <td>moderate</td>\n",
       "      <td>1</td>\n",
       "      <td>t</td>\n",
       "      <td>...</td>\n",
       "      <td>0</td>\n",
       "      <td>0</td>\n",
       "      <td>0</td>\n",
       "      <td>0</td>\n",
       "      <td>0</td>\n",
       "      <td>0</td>\n",
       "      <td>0</td>\n",
       "      <td>0</td>\n",
       "      <td>0</td>\n",
       "      <td>0</td>\n",
       "    </tr>\n",
       "    <tr>\n",
       "      <th>2</th>\n",
       "      <td>2</td>\n",
       "      <td>30</td>\n",
       "      <td>1.5</td>\n",
       "      <td>Real Bed</td>\n",
       "      <td>1.0</td>\n",
       "      <td>1.0</td>\n",
       "      <td>2</td>\n",
       "      <td>flexible</td>\n",
       "      <td>1</td>\n",
       "      <td>t</td>\n",
       "      <td>...</td>\n",
       "      <td>0</td>\n",
       "      <td>0</td>\n",
       "      <td>0</td>\n",
       "      <td>0</td>\n",
       "      <td>1</td>\n",
       "      <td>0</td>\n",
       "      <td>1</td>\n",
       "      <td>0</td>\n",
       "      <td>1</td>\n",
       "      <td>0</td>\n",
       "    </tr>\n",
       "    <tr>\n",
       "      <th>3</th>\n",
       "      <td>2</td>\n",
       "      <td>30</td>\n",
       "      <td>1.5</td>\n",
       "      <td>Real Bed</td>\n",
       "      <td>1.0</td>\n",
       "      <td>1.0</td>\n",
       "      <td>2</td>\n",
       "      <td>flexible</td>\n",
       "      <td>1</td>\n",
       "      <td>t</td>\n",
       "      <td>...</td>\n",
       "      <td>0</td>\n",
       "      <td>0</td>\n",
       "      <td>0</td>\n",
       "      <td>0</td>\n",
       "      <td>1</td>\n",
       "      <td>0</td>\n",
       "      <td>1</td>\n",
       "      <td>0</td>\n",
       "      <td>0</td>\n",
       "      <td>0</td>\n",
       "    </tr>\n",
       "    <tr>\n",
       "      <th>4</th>\n",
       "      <td>6</td>\n",
       "      <td>27</td>\n",
       "      <td>2.0</td>\n",
       "      <td>Real Bed</td>\n",
       "      <td>3.0</td>\n",
       "      <td>3.0</td>\n",
       "      <td>2</td>\n",
       "      <td>strict</td>\n",
       "      <td>1</td>\n",
       "      <td>t</td>\n",
       "      <td>...</td>\n",
       "      <td>0</td>\n",
       "      <td>0</td>\n",
       "      <td>0</td>\n",
       "      <td>0</td>\n",
       "      <td>1</td>\n",
       "      <td>0</td>\n",
       "      <td>1</td>\n",
       "      <td>0</td>\n",
       "      <td>0</td>\n",
       "      <td>0</td>\n",
       "    </tr>\n",
       "  </tbody>\n",
       "</table>\n",
       "<p>5 rows × 65 columns</p>\n",
       "</div>"
      ],
      "text/plain": [
       "   accommodates  availability_30  bathrooms  bed_type  bedrooms  beds  \\\n",
       "0             6                0        2.5  Real Bed       1.0   3.0   \n",
       "1             2               29        0.0     Futon       1.0   1.0   \n",
       "2             2               30        1.5  Real Bed       1.0   1.0   \n",
       "3             2               30        1.5  Real Bed       1.0   1.0   \n",
       "4             6               27        2.0  Real Bed       3.0   3.0   \n",
       "\n",
       "   calculated_host_listings_count cancellation_policy  guests_included  \\\n",
       "0                               1            moderate                1   \n",
       "1                               1            moderate                1   \n",
       "2                               2            flexible                1   \n",
       "3                               2            flexible                1   \n",
       "4                               2              strict                1   \n",
       "\n",
       "  has_availability  ... amenities__Laptop_Friendly_Workspace  \\\n",
       "0                t  ...                                    0   \n",
       "1                t  ...                                    0   \n",
       "2                t  ...                                    0   \n",
       "3                t  ...                                    0   \n",
       "4                t  ...                                    0   \n",
       "\n",
       "   amenities__Dog(s) amenities__Smoking_Allowed  amenities__Doorman  \\\n",
       "0                  0                          0                   0   \n",
       "1                  0                          0                   0   \n",
       "2                  0                          0                   0   \n",
       "3                  0                          0                   0   \n",
       "4                  0                          0                   0   \n",
       "\n",
       "   amenities__Indoor_Fireplace  amenities__Suitable_for_Events  \\\n",
       "0                            1                               0   \n",
       "1                            0                               0   \n",
       "2                            1                               0   \n",
       "3                            1                               0   \n",
       "4                            1                               0   \n",
       "\n",
       "   amenities__Shampoo amenities__Pets_live_on_this_property  \\\n",
       "0                   0                                     1   \n",
       "1                   0                                     0   \n",
       "2                   1                                     0   \n",
       "3                   1                                     0   \n",
       "4                   1                                     0   \n",
       "\n",
       "   amenities__Safety_Card  amenities__Pets_Allowed  \n",
       "0                       0                        0  \n",
       "1                       0                        0  \n",
       "2                       1                        0  \n",
       "3                       0                        0  \n",
       "4                       0                        0  \n",
       "\n",
       "[5 rows x 65 columns]"
      ]
     },
     "execution_count": 16,
     "metadata": {},
     "output_type": "execute_result"
    }
   ],
   "source": [
    "X1.head(5)"
   ]
  },
  {
   "cell_type": "markdown",
   "id": "fce268e5",
   "metadata": {},
   "source": [
    "- ### split data"
   ]
  },
  {
   "cell_type": "code",
   "execution_count": 17,
   "id": "a65ecbcf",
   "metadata": {
    "scrolled": true
   },
   "outputs": [
    {
     "name": "stdout",
     "output_type": "stream",
     "text": [
      "      accommodates  availability_30  bathrooms  bed_type  bedrooms  beds  \\\n",
      "1313             4               16        1.0  Real Bed       2.0   3.0   \n",
      "2015             2                8        1.0  Real Bed       1.0   1.0   \n",
      "4395             2               19        1.0  Real Bed       0.0   1.0   \n",
      "2572             2               29        1.0  Real Bed       1.0   1.0   \n",
      "5408             4               30        1.0  Real Bed       2.0   2.0   \n",
      "\n",
      "      calculated_host_listings_count cancellation_policy  guests_included  \\\n",
      "1313                               1            moderate                2   \n",
      "2015                               2            moderate                1   \n",
      "4395                               2              strict                1   \n",
      "2572                               1            flexible                1   \n",
      "5408                               1            flexible                1   \n",
      "\n",
      "     has_availability  ... amenities__Laptop_Friendly_Workspace  \\\n",
      "1313                t  ...                                    0   \n",
      "2015                t  ...                                    1   \n",
      "4395                t  ...                                    0   \n",
      "2572                t  ...                                    0   \n",
      "5408                t  ...                                    0   \n",
      "\n",
      "      amenities__Dog(s) amenities__Smoking_Allowed  amenities__Doorman  \\\n",
      "1313                  0                          0                   0   \n",
      "2015                  0                          0                   0   \n",
      "4395                  0                          0                   0   \n",
      "2572                  0                          0                   0   \n",
      "5408                  0                          0                   0   \n",
      "\n",
      "      amenities__Indoor_Fireplace  amenities__Suitable_for_Events  \\\n",
      "1313                            0                               0   \n",
      "2015                            0                               0   \n",
      "4395                            0                               0   \n",
      "2572                            0                               0   \n",
      "5408                            0                               0   \n",
      "\n",
      "      amenities__Shampoo amenities__Pets_live_on_this_property  \\\n",
      "1313                   1                                     1   \n",
      "2015                   1                                     0   \n",
      "4395                   0                                     0   \n",
      "2572                   1                                     0   \n",
      "5408                   0                                     0   \n",
      "\n",
      "      amenities__Safety_Card  amenities__Pets_Allowed  \n",
      "1313                       0                        0  \n",
      "2015                       0                        0  \n",
      "4395                       1                        1  \n",
      "2572                       0                        0  \n",
      "5408                       0                        0  \n",
      "\n",
      "[5 rows x 65 columns]\n"
     ]
    }
   ],
   "source": [
    "# split the data\n",
    "random_state=42\n",
    "X_train, X_other, y_train, y_other = train_test_split(X1, y, train_size=0.6, random_state=random_state)\n",
    "X_val, X_test, y_val, y_test = train_test_split(X_other, y_other, train_size=0.5, random_state=random_state)\n",
    "print(X_train.head())"
   ]
  },
  {
   "cell_type": "code",
   "execution_count": 18,
   "id": "af69ca5c",
   "metadata": {
    "scrolled": true
   },
   "outputs": [
    {
     "name": "stdout",
     "output_type": "stream",
     "text": [
      "accommodates                               int64\n",
      "availability_30                            int64\n",
      "bathrooms                                float64\n",
      "bed_type                                  object\n",
      "bedrooms                                 float64\n",
      "                                          ...   \n",
      "amenities__Suitable_for_Events             int32\n",
      "amenities__Shampoo                         int32\n",
      "amenities__Pets_live_on_this_property      int32\n",
      "amenities__Safety_Card                     int32\n",
      "amenities__Pets_Allowed                    int32\n",
      "Length: 65, dtype: object\n"
     ]
    }
   ],
   "source": [
    "print(X_train.dtypes)"
   ]
  },
  {
   "cell_type": "markdown",
   "id": "ffac4eb7",
   "metadata": {},
   "source": [
    "- ### encoding"
   ]
  },
  {
   "cell_type": "code",
   "execution_count": 19,
   "id": "b40bdfe9",
   "metadata": {},
   "outputs": [
    {
     "data": {
      "text/plain": [
       "Index(['bed_type', 'cancellation_policy', 'has_availability',\n",
       "       'host_is_superhost', 'instant_bookable', 'property_type', 'room_type'],\n",
       "      dtype='object')"
      ]
     },
     "execution_count": 19,
     "metadata": {},
     "output_type": "execute_result"
    }
   ],
   "source": [
    "#select object columns for encode\n",
    "X_train.select_dtypes(['object']).columns"
   ]
  },
  {
   "cell_type": "code",
   "execution_count": 11,
   "id": "bab0a457",
   "metadata": {
    "scrolled": true
   },
   "outputs": [
    {
     "data": {
      "text/plain": [
       "Index(['accommodates', 'availability_30', 'calculated_host_listings_count',\n",
       "       'guests_included', 'maximum_nights', 'number_of_reviews',\n",
       "       'amenities__Hair_Dryer', 'amenities__Lock_on_Bedroom_Door',\n",
       "       'amenities__Suitable_for_Events',\n",
       "       'amenities__Pets_live_on_this_property', 'amenities__Dog(s)',\n",
       "       'amenities__Dryer', 'amenities__First_Aid_Kit',\n",
       "       'amenities__Carbon_Monoxide_Detector', 'amenities__Hot_Tub',\n",
       "       'amenities__Buzzer/Wireless_Intercom', 'amenities__Cat(s)',\n",
       "       'amenities__Wheelchair_Accessible', 'amenities__Indoor_Fireplace',\n",
       "       'amenities__Iron', 'amenities__Smoke_Detector', 'amenities__Hangers',\n",
       "       'amenities__Pets_Allowed', 'amenities__Essentials', 'amenities__Washer',\n",
       "       'amenities__Washer_/_Dryer', 'amenities__Other_pet(s)',\n",
       "       'amenities__Cable_TV', 'amenities__Heating',\n",
       "       'amenities__Free_Parking_on_Premises', 'amenities__Doorman',\n",
       "       'amenities__Pool', 'amenities__Elevator_in_Building',\n",
       "       'amenities__Breakfast', 'amenities__Gym', 'amenities__Internet',\n",
       "       'amenities__Wireless_Internet', 'amenities__Air_Conditioning',\n",
       "       'amenities__Smoking_Allowed', 'amenities__Safety_Card',\n",
       "       'amenities__Shampoo', 'amenities__24-Hour_Check-in',\n",
       "       'amenities__Family/Kid_Friendly', 'amenities__TV',\n",
       "       'amenities__Fire_Extinguisher', 'amenities__Kitchen',\n",
       "       'amenities__Laptop_Friendly_Workspace'],\n",
       "      dtype='object')"
      ]
     },
     "execution_count": 11,
     "metadata": {},
     "output_type": "execute_result"
    }
   ],
   "source": [
    "X_train.select_dtypes(['int']).columns"
   ]
  },
  {
   "cell_type": "code",
   "execution_count": 12,
   "id": "d1b842cb",
   "metadata": {},
   "outputs": [
    {
     "data": {
      "text/plain": [
       "Index(['bathrooms', 'bedrooms', 'beds', 'host_listings_count',\n",
       "       'latitude(North)', 'longitude(East)', 'review_scores_checkin',\n",
       "       'review_scores_communication', 'review_scores_location',\n",
       "       'review_scores_rating', 'review_scores_value'],\n",
       "      dtype='object')"
      ]
     },
     "execution_count": 12,
     "metadata": {},
     "output_type": "execute_result"
    }
   ],
   "source": [
    "X_train.select_dtypes(['float']).columns"
   ]
  },
  {
   "cell_type": "code",
   "execution_count": 20,
   "id": "c6ae01c2",
   "metadata": {},
   "outputs": [],
   "source": [
    "from sklearn.compose import ColumnTransformer\n",
    "from sklearn.pipeline import Pipeline\n",
    "from sklearn.preprocessing import OneHotEncoder\n",
    "from sklearn.preprocessing import OrdinalEncoder\n",
    "from sklearn.preprocessing import StandardScaler\n",
    "from sklearn.preprocessing import MinMaxScaler\n",
    "from sklearn.impute import SimpleImputer\n",
    "from sklearn.experimental import enable_iterative_imputer\n",
    "from sklearn.impute import IterativeImputer\n",
    "from sklearn.ensemble import RandomForestRegressor\n",
    "random_state = 42"
   ]
  },
  {
   "cell_type": "code",
   "execution_count": 32,
   "id": "586b2c99",
   "metadata": {},
   "outputs": [],
   "source": [
    "# collect the various features\n",
    "cat_ftrs = ['bed_type', 'has_availability',\n",
    "       'host_is_superhost', 'instant_bookable', 'room_type','amenities__Breakfast', 'amenities__Safety_Card', 'amenities__Cable_TV',\n",
    "       'amenities__Lock_on_Bedroom_Door',\n",
    "       'amenities__Free_Parking_on_Premises', 'amenities__Fire_Extinguisher',\n",
    "       'amenities__Wheelchair_Accessible', 'amenities__24-Hour_Check-in',\n",
    "       'amenities__Carbon_Monoxide_Detector', 'amenities__Indoor_Fireplace',\n",
    "       'amenities__Smoking_Allowed', 'amenities__Smoke_Detector',\n",
    "       'amenities__Dog(s)', 'amenities__Elevator_in_Building',\n",
    "       'amenities__Hangers', 'amenities__Essentials',\n",
    "       'amenities__Laptop_Friendly_Workspace', 'amenities__Wireless_Internet',\n",
    "       'amenities__Cat(s)', 'amenities__Buzzer/Wireless_Intercom',\n",
    "       'amenities__Suitable_for_Events', 'amenities__Pets_Allowed',\n",
    "       'amenities__TV', 'amenities__Pets_live_on_this_property',\n",
    "       'amenities__Dryer', 'amenities__Kitchen', 'amenities__Shampoo',\n",
    "       'amenities__Gym', 'amenities__First_Aid_Kit', 'amenities__Heating',\n",
    "       'amenities__Internet', 'amenities__Air_Conditioning',\n",
    "       'amenities__Washer', 'amenities__Family/Kid_Friendly',\n",
    "       'amenities__Washer_/_Dryer', 'amenities__Hair_Dryer', 'amenities__Pool',\n",
    "       'amenities__Doorman', 'amenities__Other_pet(s)', 'amenities__Hot_Tub',\n",
    "       'amenities__Iron']\n",
    "\n",
    "ordinal_ftrs = ['cancellation_policy','property_type']\n",
    "ordinal_cats = [['no_refunds','super_strict_30','strict','moderate','flexible'],\n",
    "               ['Hut','Condominium', 'Apartment', 'Cabin', 'Villa', 'Boat', 'Tipi', 'Townhouse', 'Loft', 'Camper/RV', 'Bungalow', 'Chalet', 'Other', 'Tent', 'Bed & Breakfast', 'Treehouse', 'Earth House', 'House']]              \n",
    "\n",
    "num_ftrs1 = ['accommodates', 'availability_30', 'calculated_host_listings_count',\n",
    "       'guests_included', 'number_of_reviews','bathrooms', 'bedrooms', 'beds', 'host_listings_count',\n",
    "        'review_scores_checkin', 'review_scores_communication', 'review_scores_location',\n",
    "       'review_scores_rating', 'review_scores_value']\n",
    "\n",
    "num_ftrs2 = ['maximum_nights']"
   ]
  },
  {
   "cell_type": "code",
   "execution_count": 33,
   "id": "a84aad93",
   "metadata": {},
   "outputs": [
    {
     "name": "stdout",
     "output_type": "stream",
     "text": [
      "['Apartment' 'House' 'Loft' 'Townhouse' 'Bed & Breakfast' 'Condominium'\n",
      " 'Treehouse' 'Tipi' 'Other' 'Chalet' 'Tent' 'Camper/RV' 'Villa' 'Cabin'\n",
      " 'Bungalow' 'Earth House' 'Boat']\n"
     ]
    }
   ],
   "source": [
    "print(X_train['property_type'].unique())"
   ]
  },
  {
   "cell_type": "code",
   "execution_count": 34,
   "id": "f2d66076",
   "metadata": {},
   "outputs": [],
   "source": [
    "# one-hot encoder\n",
    "categorical_transformer = Pipeline(steps=[\n",
    "    ('imputer', SimpleImputer(strategy='constant',fill_value='missing')),\n",
    "    ('onehot', OneHotEncoder(sparse=False,handle_unknown='ignore'))])\n",
    "\n",
    "# ordinal encoder\n",
    "ordinal_transformer = Pipeline(steps=[\n",
    "    ('imputer2', SimpleImputer(strategy='constant',fill_value='NA')),\n",
    "    ('ordinal', OrdinalEncoder(categories = ordinal_cats))])\n",
    "\n",
    "# MinMax Scaler\n",
    "numeric_transformer1 = Pipeline(steps=[\n",
    "    ('imputer3',SimpleImputer(strategy='mean')),\n",
    "    ('scaler', MinMaxScaler(feature_range=(0,100)))])\n",
    "\n",
    "# Standard scaler\n",
    "numeric_transformer2 = Pipeline(steps=[\n",
    "    ('imputer4',SimpleImputer(strategy='mean')),\n",
    "    ('scaler', StandardScaler())])\n",
    "\n",
    "# collect the transformers\n",
    "preprocessor = ColumnTransformer(\n",
    "    transformers=[\n",
    "        ('num1', numeric_transformer1, num_ftrs1),\n",
    "        ('cat', categorical_transformer, cat_ftrs),\n",
    "        ('ord', ordinal_transformer, ordinal_ftrs),\n",
    "        ('num2', numeric_transformer2, num_ftrs2)])"
   ]
  },
  {
   "cell_type": "code",
   "execution_count": 35,
   "id": "c67b9ddc",
   "metadata": {
    "scrolled": true
   },
   "outputs": [
    {
     "name": "stdout",
     "output_type": "stream",
     "text": [
      "(3500, 110)\n",
      "(1167, 110)\n",
      "(1167, 110)\n",
      "['num1__accommodates' 'num1__availability_30'\n",
      " 'num1__calculated_host_listings_count' 'num1__guests_included'\n",
      " 'num1__number_of_reviews' 'num1__bathrooms' 'num1__bedrooms' 'num1__beds'\n",
      " 'num1__host_listings_count' 'num1__review_scores_checkin'\n",
      " 'num1__review_scores_communication' 'num1__review_scores_location'\n",
      " 'num1__review_scores_rating' 'num1__review_scores_value'\n",
      " 'cat__bed_type_Airbed' 'cat__bed_type_Couch' 'cat__bed_type_Futon'\n",
      " 'cat__bed_type_Pull-out Sofa' 'cat__bed_type_Real Bed'\n",
      " 'cat__has_availability_t' 'cat__host_is_superhost_f'\n",
      " 'cat__host_is_superhost_missing' 'cat__host_is_superhost_t'\n",
      " 'cat__instant_bookable_f' 'cat__instant_bookable_t'\n",
      " 'cat__room_type_Entire home/apt' 'cat__room_type_Private room'\n",
      " 'cat__room_type_Shared room' 'cat__amenities__Breakfast_0'\n",
      " 'cat__amenities__Breakfast_1' 'cat__amenities__Safety_Card_0'\n",
      " 'cat__amenities__Safety_Card_1' 'cat__amenities__Cable_TV_0'\n",
      " 'cat__amenities__Cable_TV_1' 'cat__amenities__Lock_on_Bedroom_Door_0'\n",
      " 'cat__amenities__Lock_on_Bedroom_Door_1'\n",
      " 'cat__amenities__Free_Parking_on_Premises_0'\n",
      " 'cat__amenities__Free_Parking_on_Premises_1'\n",
      " 'cat__amenities__Fire_Extinguisher_0'\n",
      " 'cat__amenities__Fire_Extinguisher_1'\n",
      " 'cat__amenities__Wheelchair_Accessible_0'\n",
      " 'cat__amenities__Wheelchair_Accessible_1'\n",
      " 'cat__amenities__24-Hour_Check-in_0' 'cat__amenities__24-Hour_Check-in_1'\n",
      " 'cat__amenities__Carbon_Monoxide_Detector_0'\n",
      " 'cat__amenities__Carbon_Monoxide_Detector_1'\n",
      " 'cat__amenities__Indoor_Fireplace_0' 'cat__amenities__Indoor_Fireplace_1'\n",
      " 'cat__amenities__Smoking_Allowed_0' 'cat__amenities__Smoking_Allowed_1'\n",
      " 'cat__amenities__Smoke_Detector_0' 'cat__amenities__Smoke_Detector_1'\n",
      " 'cat__amenities__Dog(s)_0' 'cat__amenities__Elevator_in_Building_0'\n",
      " 'cat__amenities__Elevator_in_Building_1' 'cat__amenities__Hangers_0'\n",
      " 'cat__amenities__Hangers_1' 'cat__amenities__Essentials_0'\n",
      " 'cat__amenities__Essentials_1'\n",
      " 'cat__amenities__Laptop_Friendly_Workspace_0'\n",
      " 'cat__amenities__Laptop_Friendly_Workspace_1'\n",
      " 'cat__amenities__Wireless_Internet_0'\n",
      " 'cat__amenities__Wireless_Internet_1' 'cat__amenities__Cat(s)_0'\n",
      " 'cat__amenities__Buzzer/Wireless_Intercom_0'\n",
      " 'cat__amenities__Buzzer/Wireless_Intercom_1'\n",
      " 'cat__amenities__Suitable_for_Events_0'\n",
      " 'cat__amenities__Suitable_for_Events_1' 'cat__amenities__Pets_Allowed_0'\n",
      " 'cat__amenities__Pets_Allowed_1' 'cat__amenities__TV_0'\n",
      " 'cat__amenities__TV_1' 'cat__amenities__Pets_live_on_this_property_0'\n",
      " 'cat__amenities__Pets_live_on_this_property_1' 'cat__amenities__Dryer_0'\n",
      " 'cat__amenities__Dryer_1' 'cat__amenities__Kitchen_0'\n",
      " 'cat__amenities__Kitchen_1' 'cat__amenities__Shampoo_0'\n",
      " 'cat__amenities__Shampoo_1' 'cat__amenities__Gym_0'\n",
      " 'cat__amenities__Gym_1' 'cat__amenities__First_Aid_Kit_0'\n",
      " 'cat__amenities__First_Aid_Kit_1' 'cat__amenities__Heating_0'\n",
      " 'cat__amenities__Heating_1' 'cat__amenities__Internet_0'\n",
      " 'cat__amenities__Internet_1' 'cat__amenities__Air_Conditioning_0'\n",
      " 'cat__amenities__Air_Conditioning_1' 'cat__amenities__Washer_0'\n",
      " 'cat__amenities__Washer_1' 'cat__amenities__Family/Kid_Friendly_0'\n",
      " 'cat__amenities__Family/Kid_Friendly_1'\n",
      " 'cat__amenities__Washer_/_Dryer_0' 'cat__amenities__Washer_/_Dryer_1'\n",
      " 'cat__amenities__Hair_Dryer_0' 'cat__amenities__Hair_Dryer_1'\n",
      " 'cat__amenities__Pool_0' 'cat__amenities__Pool_1'\n",
      " 'cat__amenities__Doorman_0' 'cat__amenities__Doorman_1'\n",
      " 'cat__amenities__Other_pet(s)_0' 'cat__amenities__Hot_Tub_0'\n",
      " 'cat__amenities__Hot_Tub_1' 'cat__amenities__Iron_0'\n",
      " 'cat__amenities__Iron_1' 'ord__cancellation_policy' 'ord__property_type'\n",
      " 'num2__maximum_nights']\n"
     ]
    }
   ],
   "source": [
    "# fit_transform the training set\n",
    "X_prep = preprocessor.fit_transform(X_train)\n",
    "\n",
    "#the feature names after fit\n",
    "feature_names = preprocessor.get_feature_names_out()\n",
    "\n",
    "#transform the train\n",
    "df_train = pd.DataFrame(data=X_prep,columns=feature_names)\n",
    "print(df_train.shape)\n",
    "\n",
    "#transform the val\n",
    "df_val = preprocessor.transform(X_val)\n",
    "df_val = pd.DataFrame(data=df_val,columns = feature_names)\n",
    "print(df_val.shape)\n",
    "\n",
    "#transform the test\n",
    "df_test = preprocessor.transform(X_test)\n",
    "df_test = pd.DataFrame(data=df_test,columns = feature_names)\n",
    "print(df_test.shape)\n",
    "print(feature_names)"
   ]
  },
  {
   "cell_type": "code",
   "execution_count": 26,
   "id": "bf66fa7c",
   "metadata": {
    "scrolled": true
   },
   "outputs": [
    {
     "name": "stdout",
     "output_type": "stream",
     "text": [
      "      accommodates  availability_30  calculated_host_listings_count  \\\n",
      "1313             4               16                               1   \n",
      "2015             2                8                               2   \n",
      "4395             2               19                               2   \n",
      "2572             2               29                               1   \n",
      "5408             4               30                               1   \n",
      "\n",
      "      guests_included  maximum_nights  number_of_reviews  bathrooms  bedrooms  \\\n",
      "1313                2             730                 46        1.0       2.0   \n",
      "2015                1            1125                  0        1.0       1.0   \n",
      "4395                1            1125                 57        1.0       0.0   \n",
      "2572                1            1125                  0        1.0       1.0   \n",
      "5408                1            1125                  0        1.0       2.0   \n",
      "\n",
      "      beds  host_listings_count  review_scores_checkin  \\\n",
      "1313   3.0                  1.0                   10.0   \n",
      "2015   1.0                  3.0                    NaN   \n",
      "4395   1.0                  8.0                   10.0   \n",
      "2572   1.0                  1.0                    NaN   \n",
      "5408   2.0                  1.0                    NaN   \n",
      "\n",
      "      review_scores_communication  review_scores_location  \\\n",
      "1313                         10.0                    10.0   \n",
      "2015                          NaN                     NaN   \n",
      "4395                         10.0                    10.0   \n",
      "2572                          NaN                     NaN   \n",
      "5408                          NaN                     NaN   \n",
      "\n",
      "      review_scores_rating  review_scores_value  \n",
      "1313                  97.0                  9.0  \n",
      "2015                   NaN                  NaN  \n",
      "4395                  93.0                  9.0  \n",
      "2572                   NaN                  NaN  \n",
      "5408                   NaN                  NaN  \n"
     ]
    }
   ],
   "source": [
    "print(X_train[['accommodates', 'availability_30', 'calculated_host_listings_count',\n",
    "       'guests_included', 'maximum_nights', 'number_of_reviews','bathrooms', 'bedrooms', 'beds', 'host_listings_count',\n",
    "        'review_scores_checkin', 'review_scores_communication', 'review_scores_location',\n",
    "       'review_scores_rating', 'review_scores_value']].head())"
   ]
  },
  {
   "cell_type": "code",
   "execution_count": null,
   "id": "72936671",
   "metadata": {},
   "outputs": [],
   "source": []
  }
 ],
 "metadata": {
  "kernelspec": {
   "display_name": "Python 3 (ipykernel)",
   "language": "python",
   "name": "python3"
  },
  "language_info": {
   "codemirror_mode": {
    "name": "ipython",
    "version": 3
   },
   "file_extension": ".py",
   "mimetype": "text/x-python",
   "name": "python",
   "nbconvert_exporter": "python",
   "pygments_lexer": "ipython3",
   "version": "3.10.5"
  }
 },
 "nbformat": 4,
 "nbformat_minor": 5
}
