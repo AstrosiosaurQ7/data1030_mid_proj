{
 "cells": [
  {
   "cell_type": "code",
   "execution_count": 1,
   "id": "ab830c63",
   "metadata": {},
   "outputs": [],
   "source": [
    "import pandas as pd\n",
    "import numpy as np"
   ]
  },
  {
   "cell_type": "code",
   "execution_count": 15,
   "id": "bfc15150",
   "metadata": {},
   "outputs": [],
   "source": [
    "df=pd.read_csv('data/rental_price.csv')"
   ]
  },
  {
   "cell_type": "code",
   "execution_count": 14,
   "id": "bac85ae8",
   "metadata": {
    "scrolled": true
   },
   "outputs": [
    {
     "name": "stdout",
     "output_type": "stream",
     "text": [
      "0       300.00\n",
      "1        99.00\n",
      "2       100.00\n",
      "3       100.00\n",
      "4       599.00\n",
      "         ...  \n",
      "5829    125.00\n",
      "5830    179.00\n",
      "5831     85.00\n",
      "5832     25.00\n",
      "5833    120.00\n",
      "Name: price, Length: 5834, dtype: object\n"
     ]
    }
   ],
   "source": [
    "a=df['price'].str.replace('$','',regex=False)\n",
    "\n",
    "print(a)\n"
   ]
  },
  {
   "cell_type": "markdown",
   "id": "145d1b46",
   "metadata": {},
   "source": [
    "Online Tourist Agency   \n",
    "https://www.xotels.com/en/glossary/independent-hotel#:~:text=An%20Independent%20Hotel%20is%20a,chain%20are%20considered%20'independent'.     \n"
   ]
  },
  {
   "cell_type": "markdown",
   "id": "b1bb99ab",
   "metadata": {},
   "source": [
    "### Introduction\n"
   ]
  },
  {
   "cell_type": "markdown",
   "id": "bd269094",
   "metadata": {},
   "source": [
    "OYO hotels ,as known as OYO hotels and homes.In recent years, OYO hotels have developed rapidly in China, mainly in franchise and chain of lease, occupying many second and third-tier cities' market.  \n",
    "This report try to predit the rental price of the OYO hotels in China.So the target variable is \"rental price\",and it's a regression problem.   \n",
    "Because OYO's market layout is concentrated in second and third-tier cities, it is also the main city in China, occupying a large part of economic development. Therefore, the research on it have a great reference value.    \n",
    "This report download the dataset from Kaggle[1],but all the infomation can be gathered form Chinese OTA platforms.This dataset has 5834 data points and 25 features,\n",
    "\n"
   ]
  },
  {
   "cell_type": "markdown",
   "id": "cfe241c4",
   "metadata": {},
   "source": [
    "### EDA"
   ]
  },
  {
   "cell_type": "markdown",
   "id": "41d55fa6",
   "metadata": {},
   "source": []
  },
  {
   "cell_type": "markdown",
   "id": "d9e40b19",
   "metadata": {},
   "source": [
    "### Data preprocessing "
   ]
  },
  {
   "cell_type": "markdown",
   "id": "89f1a198",
   "metadata": {},
   "source": [
    "### References"
   ]
  },
  {
   "cell_type": "markdown",
   "id": "ccbb6e40",
   "metadata": {},
   "source": [
    "### Github"
   ]
  },
  {
   "cell_type": "code",
   "execution_count": null,
   "id": "d0e63c18",
   "metadata": {},
   "outputs": [],
   "source": []
  }
 ],
 "metadata": {
  "kernelspec": {
   "display_name": "Python 3 (ipykernel)",
   "language": "python",
   "name": "python3"
  },
  "language_info": {
   "codemirror_mode": {
    "name": "ipython",
    "version": 3
   },
   "file_extension": ".py",
   "mimetype": "text/x-python",
   "name": "python",
   "nbconvert_exporter": "python",
   "pygments_lexer": "ipython3",
   "version": "3.10.5"
  }
 },
 "nbformat": 4,
 "nbformat_minor": 5
}
